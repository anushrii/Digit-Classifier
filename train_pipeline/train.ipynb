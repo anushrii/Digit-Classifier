{
 "cells": [
  {
   "cell_type": "code",
   "execution_count": 17,
   "metadata": {},
   "outputs": [],
   "source": [
    "import yaml\n",
    "from itertools import starmap\n",
    "\n",
    "from more_itertools import consume\n",
    "\n",
    "import mlflow\n",
    "from training_loop import execute_tuning\n",
    "import uuid"
   ]
  },
  {
   "cell_type": "code",
   "execution_count": null,
   "metadata": {},
   "outputs": [],
   "source": [
    "\n",
    "# Load the configuration file\n",
    "with open('hyperparameter_tuning/config.yaml', 'r') as file:\n",
    "    config = yaml.safe_load(file)\n",
    "\n",
    "# Print the configuration to verify\n",
    "print(config)"
   ]
  },
  {
   "cell_type": "code",
   "execution_count": null,
   "metadata": {},
   "outputs": [],
   "source": [
    "mlflow.set_tracking_uri(\"http://host.docker.internal:5050\")\n",
    "mlflow.set_experiment(\"Digit classifier\")\n",
    "\n",
    "batch_sizes = config['batch_sizes']\n",
    "learning_rates = config['learning_rates']\n",
    "epochs_choices = config['epochs_choices']\n",
    "num_runs = config['num_runs']\n",
    "job_id = str(uuid.uuid4())[:5]\n",
    "# Execute hyperparameter tuning runs with custom parameter choices\n",
    "consume(\n",
    "    starmap(execute_tuning, ((x, batch_sizes, learning_rates, epochs_choices, job_id, num_runs) for x in range(num_runs)))\n",
    ")"
   ]
  },
  {
   "cell_type": "code",
   "execution_count": null,
   "metadata": {},
   "outputs": [],
   "source": []
  },
  {
   "cell_type": "code",
   "execution_count": null,
   "metadata": {},
   "outputs": [],
   "source": []
  },
  {
   "cell_type": "code",
   "execution_count": null,
   "metadata": {},
   "outputs": [],
   "source": []
  }
 ],
 "metadata": {
  "kernelspec": {
   "display_name": "Python 3",
   "language": "python",
   "name": "python3"
  },
  "language_info": {
   "codemirror_mode": {
    "name": "ipython",
    "version": 3
   },
   "file_extension": ".py",
   "mimetype": "text/x-python",
   "name": "python",
   "nbconvert_exporter": "python",
   "pygments_lexer": "ipython3",
   "version": "3.12.6"
  }
 },
 "nbformat": 4,
 "nbformat_minor": 2
}
