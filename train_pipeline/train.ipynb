{
 "cells": [
  {
   "cell_type": "code",
   "execution_count": 1,
   "metadata": {},
   "outputs": [],
   "source": [
    "import mlflow\n",
    "from training_loop import execute_tuning\n",
    "\n",
    "from itertools import starmap\n",
    "from more_itertools import consume"
   ]
  },
  {
   "cell_type": "code",
   "execution_count": null,
   "metadata": {},
   "outputs": [],
   "source": [
    "mlflow.set_tracking_uri(\"http://host.docker.internal:5050\")\n",
    "mlflow.set_experiment(\"Digit classifier\")\n",
    "\n",
    "batch_sizes = [64, 32]\n",
    "learning_rates = [0.01, 0.001]\n",
    "epochs_choices = [1, 2]\n",
    "num_runs = 4\n",
    "\n",
    "# Execute hyperparameter tuning runs with custom parameter choices\n",
    "consume(\n",
    "    starmap(execute_tuning, ((x, batch_sizes, learning_rates, epochs_choices, num_runs) for x in range(num_runs)))\n",
    ")"
   ]
  }
 ],
 "metadata": {
  "kernelspec": {
   "display_name": "Python 3",
   "language": "python",
   "name": "python3"
  },
  "language_info": {
   "codemirror_mode": {
    "name": "ipython",
    "version": 3
   },
   "file_extension": ".py",
   "mimetype": "text/x-python",
   "name": "python",
   "nbconvert_exporter": "python",
   "pygments_lexer": "ipython3",
   "version": "3.12.6"
  }
 },
 "nbformat": 4,
 "nbformat_minor": 2
}
